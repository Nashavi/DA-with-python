{
 "cells": [
  {
   "cell_type": "markdown",
   "metadata": {},
   "source": [
    "### 1. Identify the most isolated location’s Location Id\n",
    "### 2.  Identify the most isolated location’s Location Id for each country"
   ]
  },
  {
   "cell_type": "code",
   "execution_count": 23,
   "metadata": {
    "collapsed": true
   },
   "outputs": [],
   "source": [
    "import pandas as pd\n",
    "import matplotlib.pyplot as plt\n",
    "import seaborn as sns\n",
    "import numpy as np\n",
    "\n",
    "%matplotlib inline"
   ]
  },
  {
   "cell_type": "code",
   "execution_count": 24,
   "metadata": {
    "collapsed": true
   },
   "outputs": [],
   "source": [
    "data = pd.read_csv(\"locations.csv\")"
   ]
  },
  {
   "cell_type": "code",
   "execution_count": 25,
   "metadata": {},
   "outputs": [
    {
     "data": {
      "text/html": [
       "<div>\n",
       "<style>\n",
       "    .dataframe thead tr:only-child th {\n",
       "        text-align: right;\n",
       "    }\n",
       "\n",
       "    .dataframe thead th {\n",
       "        text-align: left;\n",
       "    }\n",
       "\n",
       "    .dataframe tbody tr th {\n",
       "        vertical-align: top;\n",
       "    }\n",
       "</style>\n",
       "<table border=\"1\" class=\"dataframe\">\n",
       "  <thead>\n",
       "    <tr style=\"text-align: right;\">\n",
       "      <th></th>\n",
       "      <th>Country</th>\n",
       "      <th>Longitude</th>\n",
       "      <th>Latitude</th>\n",
       "      <th>LocationId</th>\n",
       "    </tr>\n",
       "  </thead>\n",
       "  <tbody>\n",
       "    <tr>\n",
       "      <th>0</th>\n",
       "      <td>AD</td>\n",
       "      <td>1.53</td>\n",
       "      <td>42.51</td>\n",
       "      <td>1</td>\n",
       "    </tr>\n",
       "    <tr>\n",
       "      <th>1</th>\n",
       "      <td>AE</td>\n",
       "      <td>55.47</td>\n",
       "      <td>25.42</td>\n",
       "      <td>2</td>\n",
       "    </tr>\n",
       "    <tr>\n",
       "      <th>2</th>\n",
       "      <td>AE</td>\n",
       "      <td>55.47</td>\n",
       "      <td>25.39</td>\n",
       "      <td>3</td>\n",
       "    </tr>\n",
       "    <tr>\n",
       "      <th>3</th>\n",
       "      <td>AE</td>\n",
       "      <td>54.38</td>\n",
       "      <td>24.48</td>\n",
       "      <td>4</td>\n",
       "    </tr>\n",
       "    <tr>\n",
       "      <th>4</th>\n",
       "      <td>AE</td>\n",
       "      <td>54.54</td>\n",
       "      <td>24.51</td>\n",
       "      <td>5</td>\n",
       "    </tr>\n",
       "  </tbody>\n",
       "</table>\n",
       "</div>"
      ],
      "text/plain": [
       "  Country  Longitude  Latitude  LocationId\n",
       "0      AD       1.53     42.51           1\n",
       "1      AE      55.47     25.42           2\n",
       "2      AE      55.47     25.39           3\n",
       "3      AE      54.38     24.48           4\n",
       "4      AE      54.54     24.51           5"
      ]
     },
     "execution_count": 25,
     "metadata": {},
     "output_type": "execute_result"
    }
   ],
   "source": [
    "data.head()"
   ]
  },
  {
   "cell_type": "code",
   "execution_count": 26,
   "metadata": {},
   "outputs": [
    {
     "data": {
      "text/html": [
       "<div>\n",
       "<style>\n",
       "    .dataframe thead tr:only-child th {\n",
       "        text-align: right;\n",
       "    }\n",
       "\n",
       "    .dataframe thead th {\n",
       "        text-align: left;\n",
       "    }\n",
       "\n",
       "    .dataframe tbody tr th {\n",
       "        vertical-align: top;\n",
       "    }\n",
       "</style>\n",
       "<table border=\"1\" class=\"dataframe\">\n",
       "  <thead>\n",
       "    <tr style=\"text-align: right;\">\n",
       "      <th></th>\n",
       "      <th>Country</th>\n",
       "      <th>Longitude</th>\n",
       "      <th>Latitude</th>\n",
       "      <th>LocationId</th>\n",
       "    </tr>\n",
       "  </thead>\n",
       "  <tbody>\n",
       "    <tr>\n",
       "      <th>25595</th>\n",
       "      <td>VN</td>\n",
       "      <td>106.70</td>\n",
       "      <td>10.78</td>\n",
       "      <td>25596</td>\n",
       "    </tr>\n",
       "    <tr>\n",
       "      <th>25596</th>\n",
       "      <td>VN</td>\n",
       "      <td>106.71</td>\n",
       "      <td>10.72</td>\n",
       "      <td>25597</td>\n",
       "    </tr>\n",
       "    <tr>\n",
       "      <th>25597</th>\n",
       "      <td>ZA</td>\n",
       "      <td>28.04</td>\n",
       "      <td>-26.15</td>\n",
       "      <td>25598</td>\n",
       "    </tr>\n",
       "    <tr>\n",
       "      <th>25598</th>\n",
       "      <td>ZA</td>\n",
       "      <td>28.28</td>\n",
       "      <td>-25.79</td>\n",
       "      <td>25599</td>\n",
       "    </tr>\n",
       "    <tr>\n",
       "      <th>25599</th>\n",
       "      <td>ZA</td>\n",
       "      <td>28.11</td>\n",
       "      <td>-26.02</td>\n",
       "      <td>25600</td>\n",
       "    </tr>\n",
       "  </tbody>\n",
       "</table>\n",
       "</div>"
      ],
      "text/plain": [
       "      Country  Longitude  Latitude  LocationId\n",
       "25595      VN     106.70     10.78       25596\n",
       "25596      VN     106.71     10.72       25597\n",
       "25597      ZA      28.04    -26.15       25598\n",
       "25598      ZA      28.28    -25.79       25599\n",
       "25599      ZA      28.11    -26.02       25600"
      ]
     },
     "execution_count": 26,
     "metadata": {},
     "output_type": "execute_result"
    }
   ],
   "source": [
    "data.tail()"
   ]
  },
  {
   "cell_type": "code",
   "execution_count": 27,
   "metadata": {},
   "outputs": [
    {
     "data": {
      "text/html": [
       "<div>\n",
       "<style>\n",
       "    .dataframe thead tr:only-child th {\n",
       "        text-align: right;\n",
       "    }\n",
       "\n",
       "    .dataframe thead th {\n",
       "        text-align: left;\n",
       "    }\n",
       "\n",
       "    .dataframe tbody tr th {\n",
       "        vertical-align: top;\n",
       "    }\n",
       "</style>\n",
       "<table border=\"1\" class=\"dataframe\">\n",
       "  <thead>\n",
       "    <tr style=\"text-align: right;\">\n",
       "      <th></th>\n",
       "      <th>Longitude</th>\n",
       "      <th>Latitude</th>\n",
       "      <th>LocationId</th>\n",
       "    </tr>\n",
       "  </thead>\n",
       "  <tbody>\n",
       "    <tr>\n",
       "      <th>count</th>\n",
       "      <td>25599.000000</td>\n",
       "      <td>25599.000000</td>\n",
       "      <td>25600.000000</td>\n",
       "    </tr>\n",
       "    <tr>\n",
       "      <th>mean</th>\n",
       "      <td>-27.872234</td>\n",
       "      <td>34.793016</td>\n",
       "      <td>12800.500000</td>\n",
       "    </tr>\n",
       "    <tr>\n",
       "      <th>std</th>\n",
       "      <td>96.844046</td>\n",
       "      <td>13.342332</td>\n",
       "      <td>7390.227782</td>\n",
       "    </tr>\n",
       "    <tr>\n",
       "      <th>min</th>\n",
       "      <td>-159.460000</td>\n",
       "      <td>-46.410000</td>\n",
       "      <td>1.000000</td>\n",
       "    </tr>\n",
       "    <tr>\n",
       "      <th>25%</th>\n",
       "      <td>-104.665000</td>\n",
       "      <td>31.240000</td>\n",
       "      <td>6400.750000</td>\n",
       "    </tr>\n",
       "    <tr>\n",
       "      <th>50%</th>\n",
       "      <td>-79.350000</td>\n",
       "      <td>36.750000</td>\n",
       "      <td>12800.500000</td>\n",
       "    </tr>\n",
       "    <tr>\n",
       "      <th>75%</th>\n",
       "      <td>100.630000</td>\n",
       "      <td>41.570000</td>\n",
       "      <td>19200.250000</td>\n",
       "    </tr>\n",
       "    <tr>\n",
       "      <th>max</th>\n",
       "      <td>176.920000</td>\n",
       "      <td>64.850000</td>\n",
       "      <td>25600.000000</td>\n",
       "    </tr>\n",
       "  </tbody>\n",
       "</table>\n",
       "</div>"
      ],
      "text/plain": [
       "          Longitude      Latitude    LocationId\n",
       "count  25599.000000  25599.000000  25600.000000\n",
       "mean     -27.872234     34.793016  12800.500000\n",
       "std       96.844046     13.342332   7390.227782\n",
       "min     -159.460000    -46.410000      1.000000\n",
       "25%     -104.665000     31.240000   6400.750000\n",
       "50%      -79.350000     36.750000  12800.500000\n",
       "75%      100.630000     41.570000  19200.250000\n",
       "max      176.920000     64.850000  25600.000000"
      ]
     },
     "execution_count": 27,
     "metadata": {},
     "output_type": "execute_result"
    }
   ],
   "source": [
    "data.describe()"
   ]
  },
  {
   "cell_type": "code",
   "execution_count": 28,
   "metadata": {},
   "outputs": [
    {
     "data": {
      "text/plain": [
       "<seaborn.axisgrid.FacetGrid at 0x1049ccd68>"
      ]
     },
     "execution_count": 28,
     "metadata": {},
     "output_type": "execute_result"
    },
    {
     "data": {
      "image/png": "[encoded data removed]",
      "text/plain": [
       "<matplotlib.figure.Figure at 0x105c6ccc0>"
      ]
     },
     "metadata": {},
     "output_type": "display_data"
    }
   ],
   "source": [
    "sns.lmplot(x='Latitude', y='Longitude', data = data,fit_reg=False,scatter_kws={'alpha':.1})"
   ]
  },
  {
   "cell_type": "code",
   "execution_count": 29,
   "metadata": {},
   "outputs": [
    {
     "data": {
      "text/plain": [
       "<seaborn.axisgrid.FacetGrid at 0x1109a5710>"
      ]
     },
     "execution_count": 29,
     "metadata": {},
     "output_type": "execute_result"
    },
    {
     "data": {
      "image/png": "[encoded data removed]",
      "text/plain": [
       "<matplotlib.figure.Figure at 0x110de6668>"
      ]
     },
     "metadata": {},
     "output_type": "display_data"
    }
   ],
   "source": [
    "sns.lmplot(x='Latitude', y='Longitude', data = data, fit_reg=False,hue='Country',legend=False,scatter_kws={'alpha':.1})"
   ]
  },
  {
   "cell_type": "code",
   "execution_count": 30,
   "metadata": {},
   "outputs": [
    {
     "data": {
      "text/plain": [
       "Country        True\n",
       "Longitude     False\n",
       "Latitude      False\n",
       "LocationId     True\n",
       "dtype: bool"
      ]
     },
     "execution_count": 30,
     "metadata": {},
     "output_type": "execute_result"
    }
   ],
   "source": [
    "data.apply(pd.notnull).all(axis=0)"
   ]
  },
  {
   "cell_type": "markdown",
   "metadata": {},
   "source": [
    "Both Longitude and Latitude have NAs or nulls in them"
   ]
  },
  {
   "cell_type": "code",
   "execution_count": 31,
   "metadata": {
    "collapsed": true
   },
   "outputs": [],
   "source": [
    "data.dropna(inplace= True)"
   ]
  },
  {
   "cell_type": "code",
   "execution_count": 32,
   "metadata": {
    "collapsed": true
   },
   "outputs": [],
   "source": [
    "data.reset_index(inplace=True)"
   ]
  },
  {
   "cell_type": "code",
   "execution_count": 33,
   "metadata": {},
   "outputs": [
    {
     "data": {
      "text/plain": [
       "index         True\n",
       "Country       True\n",
       "Longitude     True\n",
       "Latitude      True\n",
       "LocationId    True\n",
       "dtype: bool"
      ]
     },
     "execution_count": 33,
     "metadata": {},
     "output_type": "execute_result"
    }
   ],
   "source": [
    "data.apply(pd.notnull).all(axis=0)"
   ]
  },
  {
   "cell_type": "code",
   "execution_count": 47,
   "metadata": {
    "collapsed": true
   },
   "outputs": [],
   "source": [
    "x = np.array(data.Longitude[:10].astype(np.float16))\n",
    "y = np.array(data.Latitude[:10].astype(np.float16))\n",
    "\n",
    "# take advantage of broadcasting, to make a 2dim array of diffs\n",
    "dx = x[:, np.newaxis] - x[np.newaxis,:]\n",
    "dy = y[:, np.newaxis] - y[np.newaxis,:]"
   ]
  },
  {
   "cell_type": "code",
   "execution_count": 48,
   "metadata": {
    "collapsed": true,
    "scrolled": true
   },
   "outputs": [],
   "source": [
    "# stack in one array, to speed up calculations\n",
    "d = np.array([dx,dy])\n",
    "\n",
    "out = (d**2).sum(axis=0)**0.5"
   ]
  },
  {
   "cell_type": "code",
   "execution_count": 49,
   "metadata": {
    "collapsed": true
   },
   "outputs": [],
   "source": [
    "out = pd.DataFrame(out)"
   ]
  },
  {
   "cell_type": "code",
   "execution_count": 59,
   "metadata": {},
   "outputs": [
    {
     "data": {
      "text/html": [
       "<div>\n",
       "<style>\n",
       "    .dataframe thead tr:only-child th {\n",
       "        text-align: right;\n",
       "    }\n",
       "\n",
       "    .dataframe thead th {\n",
       "        text-align: left;\n",
       "    }\n",
       "\n",
       "    .dataframe tbody tr th {\n",
       "        vertical-align: top;\n",
       "    }\n",
       "</style>\n",
       "<table border=\"1\" class=\"dataframe\">\n",
       "  <thead>\n",
       "    <tr style=\"text-align: right;\">\n",
       "      <th></th>\n",
       "      <th>0</th>\n",
       "      <th>1</th>\n",
       "      <th>2</th>\n",
       "      <th>3</th>\n",
       "      <th>4</th>\n",
       "      <th>5</th>\n",
       "      <th>6</th>\n",
       "      <th>7</th>\n",
       "      <th>8</th>\n",
       "      <th>9</th>\n",
       "    </tr>\n",
       "  </thead>\n",
       "  <tbody>\n",
       "    <tr>\n",
       "      <th>0</th>\n",
       "      <td>-0.00000</td>\n",
       "      <td>-56.593750</td>\n",
       "      <td>-56.593750</td>\n",
       "      <td>-55.812500</td>\n",
       "      <td>-55.968750</td>\n",
       "      <td>-55.968750</td>\n",
       "      <td>-55.968750</td>\n",
       "      <td>-56.062500</td>\n",
       "      <td>-57.156250</td>\n",
       "      <td>-55.812500</td>\n",
       "    </tr>\n",
       "    <tr>\n",
       "      <th>1</th>\n",
       "      <td>-56.59375</td>\n",
       "      <td>-0.000000</td>\n",
       "      <td>-0.031250</td>\n",
       "      <td>-1.440430</td>\n",
       "      <td>-1.303711</td>\n",
       "      <td>-1.403320</td>\n",
       "      <td>-1.403320</td>\n",
       "      <td>-1.285156</td>\n",
       "      <td>-1.253906</td>\n",
       "      <td>-1.440430</td>\n",
       "    </tr>\n",
       "    <tr>\n",
       "      <th>2</th>\n",
       "      <td>-56.59375</td>\n",
       "      <td>-0.031250</td>\n",
       "      <td>-0.000000</td>\n",
       "      <td>-1.420898</td>\n",
       "      <td>-1.282227</td>\n",
       "      <td>-1.380859</td>\n",
       "      <td>-1.380859</td>\n",
       "      <td>-1.261719</td>\n",
       "      <td>-1.222656</td>\n",
       "      <td>-1.420898</td>\n",
       "    </tr>\n",
       "    <tr>\n",
       "      <th>3</th>\n",
       "      <td>-55.81250</td>\n",
       "      <td>-1.440430</td>\n",
       "      <td>-1.420898</td>\n",
       "      <td>-0.000000</td>\n",
       "      <td>-0.159302</td>\n",
       "      <td>-0.147461</td>\n",
       "      <td>-0.147461</td>\n",
       "      <td>-0.251953</td>\n",
       "      <td>-1.345703</td>\n",
       "      <td>-0.000000</td>\n",
       "    </tr>\n",
       "    <tr>\n",
       "      <th>4</th>\n",
       "      <td>-55.96875</td>\n",
       "      <td>-1.303711</td>\n",
       "      <td>-1.282227</td>\n",
       "      <td>-0.159302</td>\n",
       "      <td>-0.000000</td>\n",
       "      <td>-0.113770</td>\n",
       "      <td>-0.113770</td>\n",
       "      <td>-0.112671</td>\n",
       "      <td>-1.202148</td>\n",
       "      <td>-0.159302</td>\n",
       "    </tr>\n",
       "    <tr>\n",
       "      <th>5</th>\n",
       "      <td>-55.96875</td>\n",
       "      <td>-1.403320</td>\n",
       "      <td>-1.380859</td>\n",
       "      <td>-0.147461</td>\n",
       "      <td>-0.113770</td>\n",
       "      <td>-0.000000</td>\n",
       "      <td>-0.000000</td>\n",
       "      <td>-0.133545</td>\n",
       "      <td>-1.207031</td>\n",
       "      <td>-0.147461</td>\n",
       "    </tr>\n",
       "    <tr>\n",
       "      <th>6</th>\n",
       "      <td>-55.96875</td>\n",
       "      <td>-1.403320</td>\n",
       "      <td>-1.380859</td>\n",
       "      <td>-0.147461</td>\n",
       "      <td>-0.113770</td>\n",
       "      <td>-0.000000</td>\n",
       "      <td>-0.000000</td>\n",
       "      <td>-0.133545</td>\n",
       "      <td>-1.207031</td>\n",
       "      <td>-0.147461</td>\n",
       "    </tr>\n",
       "    <tr>\n",
       "      <th>7</th>\n",
       "      <td>-56.06250</td>\n",
       "      <td>-1.285156</td>\n",
       "      <td>-1.261719</td>\n",
       "      <td>-0.251953</td>\n",
       "      <td>-0.112671</td>\n",
       "      <td>-0.133545</td>\n",
       "      <td>-0.133545</td>\n",
       "      <td>-0.000000</td>\n",
       "      <td>-1.094727</td>\n",
       "      <td>-0.251953</td>\n",
       "    </tr>\n",
       "    <tr>\n",
       "      <th>8</th>\n",
       "      <td>-57.15625</td>\n",
       "      <td>-1.253906</td>\n",
       "      <td>-1.222656</td>\n",
       "      <td>-1.345703</td>\n",
       "      <td>-1.202148</td>\n",
       "      <td>-1.207031</td>\n",
       "      <td>-1.207031</td>\n",
       "      <td>-1.094727</td>\n",
       "      <td>-0.000000</td>\n",
       "      <td>-1.345703</td>\n",
       "    </tr>\n",
       "    <tr>\n",
       "      <th>9</th>\n",
       "      <td>-55.81250</td>\n",
       "      <td>-1.440430</td>\n",
       "      <td>-1.420898</td>\n",
       "      <td>-0.000000</td>\n",
       "      <td>-0.159302</td>\n",
       "      <td>-0.147461</td>\n",
       "      <td>-0.147461</td>\n",
       "      <td>-0.251953</td>\n",
       "      <td>-1.345703</td>\n",
       "      <td>-0.000000</td>\n",
       "    </tr>\n",
       "  </tbody>\n",
       "</table>\n",
       "</div>"
      ],
      "text/plain": [
       "          0          1          2          3          4          5          6  \\\n",
       "0  -0.00000 -56.593750 -56.593750 -55.812500 -55.968750 -55.968750 -55.968750   \n",
       "1 -56.59375  -0.000000  -0.031250  -1.440430  -1.303711  -1.403320  -1.403320   \n",
       "2 -56.59375  -0.031250  -0.000000  -1.420898  -1.282227  -1.380859  -1.380859   \n",
       "3 -55.81250  -1.440430  -1.420898  -0.000000  -0.159302  -0.147461  -0.147461   \n",
       "4 -55.96875  -1.303711  -1.282227  -0.159302  -0.000000  -0.113770  -0.113770   \n",
       "5 -55.96875  -1.403320  -1.380859  -0.147461  -0.113770  -0.000000  -0.000000   \n",
       "6 -55.96875  -1.403320  -1.380859  -0.147461  -0.113770  -0.000000  -0.000000   \n",
       "7 -56.06250  -1.285156  -1.261719  -0.251953  -0.112671  -0.133545  -0.133545   \n",
       "8 -57.15625  -1.253906  -1.222656  -1.345703  -1.202148  -1.207031  -1.207031   \n",
       "9 -55.81250  -1.440430  -1.420898  -0.000000  -0.159302  -0.147461  -0.147461   \n",
       "\n",
       "           7          8          9  \n",
       "0 -56.062500 -57.156250 -55.812500  \n",
       "1  -1.285156  -1.253906  -1.440430  \n",
       "2  -1.261719  -1.222656  -1.420898  \n",
       "3  -0.251953  -1.345703  -0.000000  \n",
       "4  -0.112671  -1.202148  -0.159302  \n",
       "5  -0.133545  -1.207031  -0.147461  \n",
       "6  -0.133545  -1.207031  -0.147461  \n",
       "7  -0.000000  -1.094727  -0.251953  \n",
       "8  -1.094727  -0.000000  -1.345703  \n",
       "9  -0.251953  -1.345703  -0.000000  "
      ]
     },
     "execution_count": 59,
     "metadata": {},
     "output_type": "execute_result"
    }
   ],
   "source": [
    "out"
   ]
  },
  {
   "cell_type": "code",
   "execution_count": 63,
   "metadata": {},
   "outputs": [
    {
     "ename": "AttributeError",
     "evalue": "'DataFrame' object has no attribute 'flat'",
     "output_type": "error",
     "traceback": [
      "\u001b[0;31m---------------------------------------------------------------------------\u001b[0m",
      "\u001b[0;31mAttributeError\u001b[0m                            Traceback (most recent call last)",
      "\u001b[0;32m<ipython-input-63-d15156c80170>\u001b[0m in \u001b[0;36m<module>\u001b[0;34m()\u001b[0m\n\u001b[0;32m----> 1\u001b[0;31m \u001b[0mnp\u001b[0m\u001b[0;34m.\u001b[0m\u001b[0mfill_diagonal\u001b[0m\u001b[0;34m(\u001b[0m\u001b[0mout\u001b[0m\u001b[0;34m,\u001b[0m\u001b[0;36m100\u001b[0m\u001b[0;34m)\u001b[0m\u001b[0;34m\u001b[0m\u001b[0m\n\u001b[0m",
      "\u001b[0;32m/Users/Avi/anaconda/lib/python3.6/site-packages/numpy/lib/index_tricks.py\u001b[0m in \u001b[0;36mfill_diagonal\u001b[0;34m(a, val, wrap)\u001b[0m\n\u001b[1;32m    774\u001b[0m \u001b[0;34m\u001b[0m\u001b[0m\n\u001b[1;32m    775\u001b[0m     \u001b[0;31m# Write the value out into the diagonal.\u001b[0m\u001b[0;34m\u001b[0m\u001b[0;34m\u001b[0m\u001b[0m\n\u001b[0;32m--> 776\u001b[0;31m     \u001b[0ma\u001b[0m\u001b[0;34m.\u001b[0m\u001b[0mflat\u001b[0m\u001b[0;34m[\u001b[0m\u001b[0;34m:\u001b[0m\u001b[0mend\u001b[0m\u001b[0;34m:\u001b[0m\u001b[0mstep\u001b[0m\u001b[0;34m]\u001b[0m \u001b[0;34m=\u001b[0m \u001b[0mval\u001b[0m\u001b[0;34m\u001b[0m\u001b[0m\n\u001b[0m\u001b[1;32m    777\u001b[0m \u001b[0;34m\u001b[0m\u001b[0m\n\u001b[1;32m    778\u001b[0m \u001b[0;34m\u001b[0m\u001b[0m\n",
      "\u001b[0;32m/Users/Avi/anaconda/lib/python3.6/site-packages/pandas/core/generic.py\u001b[0m in \u001b[0;36m__getattr__\u001b[0;34m(self, name)\u001b[0m\n\u001b[1;32m   3079\u001b[0m             \u001b[0;32mif\u001b[0m \u001b[0mname\u001b[0m \u001b[0;32min\u001b[0m \u001b[0mself\u001b[0m\u001b[0;34m.\u001b[0m\u001b[0m_info_axis\u001b[0m\u001b[0;34m:\u001b[0m\u001b[0;34m\u001b[0m\u001b[0m\n\u001b[1;32m   3080\u001b[0m                 \u001b[0;32mreturn\u001b[0m \u001b[0mself\u001b[0m\u001b[0;34m[\u001b[0m\u001b[0mname\u001b[0m\u001b[0;34m]\u001b[0m\u001b[0;34m\u001b[0m\u001b[0m\n\u001b[0;32m-> 3081\u001b[0;31m             \u001b[0;32mreturn\u001b[0m \u001b[0mobject\u001b[0m\u001b[0;34m.\u001b[0m\u001b[0m__getattribute__\u001b[0m\u001b[0;34m(\u001b[0m\u001b[0mself\u001b[0m\u001b[0;34m,\u001b[0m \u001b[0mname\u001b[0m\u001b[0;34m)\u001b[0m\u001b[0;34m\u001b[0m\u001b[0m\n\u001b[0m\u001b[1;32m   3082\u001b[0m \u001b[0;34m\u001b[0m\u001b[0m\n\u001b[1;32m   3083\u001b[0m     \u001b[0;32mdef\u001b[0m \u001b[0m__setattr__\u001b[0m\u001b[0;34m(\u001b[0m\u001b[0mself\u001b[0m\u001b[0;34m,\u001b[0m \u001b[0mname\u001b[0m\u001b[0;34m,\u001b[0m \u001b[0mvalue\u001b[0m\u001b[0;34m)\u001b[0m\u001b[0;34m:\u001b[0m\u001b[0;34m\u001b[0m\u001b[0m\n",
      "\u001b[0;31mAttributeError\u001b[0m: 'DataFrame' object has no attribute 'flat'"
     ]
    }
   ],
   "source": [
    "np.fill_diagonal(out,100)"
   ]
  },
  {
   "cell_type": "code",
   "execution_count": 60,
   "metadata": {
    "scrolled": true
   },
   "outputs": [
    {
     "ename": "AttributeError",
     "evalue": "'DataFrame' object has no attribute 'fill_diagonal'",
     "output_type": "error",
     "traceback": [
      "\u001b[0;31m---------------------------------------------------------------------------\u001b[0m",
      "\u001b[0;31mAttributeError\u001b[0m                            Traceback (most recent call last)",
      "\u001b[0;32m<ipython-input-60-82349fe35fa7>\u001b[0m in \u001b[0;36m<module>\u001b[0;34m()\u001b[0m\n\u001b[0;32m----> 1\u001b[0;31m \u001b[0mout\u001b[0m\u001b[0;34m.\u001b[0m\u001b[0mfill_diagonal\u001b[0m\u001b[0;34m(\u001b[0m\u001b[0;36m100\u001b[0m\u001b[0;34m)\u001b[0m\u001b[0;34m\u001b[0m\u001b[0m\n\u001b[0m",
      "\u001b[0;32m/Users/Avi/anaconda/lib/python3.6/site-packages/pandas/core/generic.py\u001b[0m in \u001b[0;36m__getattr__\u001b[0;34m(self, name)\u001b[0m\n\u001b[1;32m   3079\u001b[0m             \u001b[0;32mif\u001b[0m \u001b[0mname\u001b[0m \u001b[0;32min\u001b[0m \u001b[0mself\u001b[0m\u001b[0;34m.\u001b[0m\u001b[0m_info_axis\u001b[0m\u001b[0;34m:\u001b[0m\u001b[0;34m\u001b[0m\u001b[0m\n\u001b[1;32m   3080\u001b[0m                 \u001b[0;32mreturn\u001b[0m \u001b[0mself\u001b[0m\u001b[0;34m[\u001b[0m\u001b[0mname\u001b[0m\u001b[0;34m]\u001b[0m\u001b[0;34m\u001b[0m\u001b[0m\n\u001b[0;32m-> 3081\u001b[0;31m             \u001b[0;32mreturn\u001b[0m \u001b[0mobject\u001b[0m\u001b[0;34m.\u001b[0m\u001b[0m__getattribute__\u001b[0m\u001b[0;34m(\u001b[0m\u001b[0mself\u001b[0m\u001b[0;34m,\u001b[0m \u001b[0mname\u001b[0m\u001b[0;34m)\u001b[0m\u001b[0;34m\u001b[0m\u001b[0m\n\u001b[0m\u001b[1;32m   3082\u001b[0m \u001b[0;34m\u001b[0m\u001b[0m\n\u001b[1;32m   3083\u001b[0m     \u001b[0;32mdef\u001b[0m \u001b[0m__setattr__\u001b[0m\u001b[0;34m(\u001b[0m\u001b[0mself\u001b[0m\u001b[0;34m,\u001b[0m \u001b[0mname\u001b[0m\u001b[0;34m,\u001b[0m \u001b[0mvalue\u001b[0m\u001b[0;34m)\u001b[0m\u001b[0;34m:\u001b[0m\u001b[0;34m\u001b[0m\u001b[0m\n",
      "\u001b[0;31mAttributeError\u001b[0m: 'DataFrame' object has no attribute 'fill_diagonal'"
     ]
    }
   ],
   "source": [
    "out.fill_diagonal(100)"
   ]
  },
  {
   "cell_type": "code",
   "execution_count": null,
   "metadata": {
    "collapsed": true
   },
   "outputs": [],
   "source": [
    "g = out.iloc[24,]\n",
    "g.sort_values(inplace=True)\n",
    "g.reset_index()\n",
    "g.iloc[1]"
   ]
  },
  {
   "cell_type": "code",
   "execution_count": null,
   "metadata": {
    "collapsed": true,
    "scrolled": true
   },
   "outputs": [],
   "source": [
    "locs= 500\n",
    "\n",
    "for i in range(locs):\n",
    "    dist = []\n",
    "    loni,lati = data.Longitude[i].astype(np.float16),data.Latitude[i].astype(np.float16)\n",
    "    for j in range(locs):        \n",
    "        lonj,latj = data.Longitude[j].astype(np.float16),data.Latitude[j].astype(np.float16)\n",
    "        if i != j:\n",
    "            dist.append(get_distance(loni, lati, lonj, latj))\n",
    "    data.loc[i,'closest_dist']= min(dist)"
   ]
  },
  {
   "cell_type": "code",
   "execution_count": null,
   "metadata": {
    "collapsed": true
   },
   "outputs": [],
   "source": [
    "max(data['closest_dist'])"
   ]
  },
  {
   "cell_type": "code",
   "execution_count": null,
   "metadata": {
    "collapsed": true
   },
   "outputs": [],
   "source": [
    "data"
   ]
  },
  {
   "cell_type": "code",
   "execution_count": null,
   "metadata": {
    "collapsed": true,
    "scrolled": true
   },
   "outputs": [],
   "source": [
    "print(\"The locationID that is most isolated is %i\"%data[data.closest_dist == max(data['closest_dist'])]['LocationId'])"
   ]
  },
  {
   "cell_type": "code",
   "execution_count": null,
   "metadata": {
    "collapsed": true,
    "scrolled": true
   },
   "outputs": [],
   "source": [
    "for country in np.unique(data.Country):\n",
    "    country_wise = data[data.Country == country]\n",
    "    for i in range(len(country_wise)):\n",
    "        dist = []\n",
    "        loni,lati = country_wise.Longitude[i].astype(np.float16),country_wise.Latitude[i].astype(np.float16)\n",
    "        for j in range(locs):        \n",
    "            lonj,latj = country_wise.Longitude[j].astype(np.float16),country_wise.Latitude[j].astype(np.float16)\n",
    "            if i != j:\n",
    "                dist.append(get_distance(loni, lati, lonj, latj))\n",
    "        data.loc[i,'closest_dist']= min(dist)"
   ]
  },
  {
   "cell_type": "code",
   "execution_count": null,
   "metadata": {
    "collapsed": true
   },
   "outputs": [],
   "source": [
    "for i in range(locs):\n",
    "    dist = []\n",
    "    loni,lati = data.Longitude[i].astype(np.float16),data.Latitude[i].astype(np.float16)\n",
    "    for j in range(locs):        \n",
    "        lonj,latj = data.Longitude[j].astype(np.float16),data.Latitude[j].astype(np.float16)\n",
    "        if i != j:\n",
    "            dist.append(get_distance(loni, lati, lonj, latj))\n",
    "    data.loc[i,'closest_dist']= min(dist)"
   ]
  },
  {
   "cell_type": "code",
   "execution_count": null,
   "metadata": {
    "collapsed": true
   },
   "outputs": [],
   "source": [
    "cells = data[['Latitude','Longitude']]\n",
    "\n",
    "z = np.array([complex(c.Latitude, c.Longitude) for c in cells])\n",
    "\n",
    "# mesh this array so that you will have all combinations\n",
    "# m, n = np.meshgrid(z, z)\n",
    "# # get the distance via the norm\n",
    "# out = abs(m-n)"
   ]
  },
  {
   "cell_type": "code",
   "execution_count": null,
   "metadata": {
    "collapsed": true
   },
   "outputs": [],
   "source": [
    "cells"
   ]
  },
  {
   "cell_type": "code",
   "execution_count": null,
   "metadata": {
    "collapsed": true
   },
   "outputs": [],
   "source": []
  },
  {
   "cell_type": "code",
   "execution_count": null,
   "metadata": {
    "collapsed": true
   },
   "outputs": [],
   "source": []
  }
 ],
 "metadata": {
  "kernelspec": {
   "display_name": "Python 3",
   "language": "python",
   "name": "python3"
  },
  "language_info": {
   "codemirror_mode": {
    "name": "ipython",
    "version": 3
   },
   "file_extension": ".py",
   "mimetype": "text/x-python",
   "name": "python",
   "nbconvert_exporter": "python",
   "pygments_lexer": "ipython3",
   "version": "3.6.1"
  }
 },
 "nbformat": 4,
 "nbformat_minor": 2
}
